{
 "cells": [
  {
   "cell_type": "code",
   "execution_count": 5,
   "metadata": {},
   "outputs": [],
   "source": [
    "import json\n",
    "from dataclasses import asdict, dataclass, field\n",
    "from datasets import Dataset\n",
    "from pathlib import Path"
   ]
  },
  {
   "cell_type": "markdown",
   "metadata": {},
   "source": [
    "# 1.  Load data"
   ]
  },
  {
   "cell_type": "code",
   "execution_count": 10,
   "metadata": {},
   "outputs": [
    {
     "data": {
      "text/plain": [
       "WindowsPath('c:/Users/su.osmond/Documents/LLM/llm_sft/dataset/training_data.json')"
      ]
     },
     "execution_count": 10,
     "metadata": {},
     "output_type": "execute_result"
    }
   ],
   "source": [
    "cwd = Path.cwd()\n",
    "path_json = cwd.parent.parent / \"dataset\" / \"training_data.json\"\n",
    "path_json"
   ]
  },
  {
   "cell_type": "code",
   "execution_count": 11,
   "metadata": {},
   "outputs": [
    {
     "data": {
      "text/plain": [
       "(list,\n",
       " 125,\n",
       " {'about_me': \"I'm a 26 year old investor.\\nI want to explore opportunities in emerging markets.\",\n",
       "  'context': 'Eastern European economies attract investments with improving infrastructure and skilled workforce.',\n",
       "  'question': '\\nHow do you view the growth potential of Eastern European markets?',\n",
       "  'response': '\\nEastern European markets have great potential for growth. The improving infrastructure and skilled workforce make them attractive to investors. The region is also home to some of the fastest-growing economies in the world, such as Poland and Romania. Investing in stocks and cryptocurrencies in these markets can be a great way to diversify your portfolio and benefit from the potential for high returns. Additionally, investing in emerging markets can help to reduce risk and provide a hedge against global economic downturns.'})"
      ]
     },
     "execution_count": 11,
     "metadata": {},
     "output_type": "execute_result"
    }
   ],
   "source": [
    "# Load data from specified path\n",
    "with open(path_json, \"r\") as f:\n",
    "    data = json.load(f)\n",
    "\n",
    "type(data), len(data), data[0]"
   ]
  },
  {
   "cell_type": "code",
   "execution_count": 13,
   "metadata": {},
   "outputs": [
    {
     "name": "stdout",
     "output_type": "stream",
     "text": [
      "DataSample(news_context='Eastern European economies attract investments with improving infrastructure and skilled workforce.', chat_history='', question='\\nHow do you view the growth potential of Eastern European markets?', answer='\\nEastern European markets have great potential for growth. The improving infrastructure and skilled workforce make them attractive to investors. The region is also home to some of the fastest-growing economies in the world, such as Poland and Romania. Investing in stocks and cryptocurrencies in these markets can be a great way to diversify your portfolio and benefit from the potential for high returns. Additionally, investing in emerging markets can help to reduce risk and provide a hedge against global economic downturns.')\n"
     ]
    }
   ],
   "source": [
    "# Deserialize data\n",
    "@dataclass(frozen=True)\n",
    "class DataSample:\n",
    "    \"\"\"\n",
    "    A data sample for a question answering model.\n",
    "\n",
    "    Attributes:\n",
    "        user_context (str): The user's context for the question.\n",
    "        news_context (str): The news context for the question.\n",
    "        chat_history (str): The chat history for the question.\n",
    "        question (str): The question to be answered.\n",
    "        answer (str): The answer to the question.\n",
    "    \"\"\"\n",
    "\n",
    "    user_context: str = field(repr=False)\n",
    "    news_context: str = \"\"\n",
    "    chat_history: str = \"\"\n",
    "    question: str = \"\"\n",
    "    answer: str = \"\"\n",
    "\n",
    "raw_data = [\n",
    "    DataSample(\n",
    "        user_context=sample[\"about_me\"],\n",
    "        news_context=sample[\"context\"],\n",
    "        chat_history=sample.get(\"chat_history\", \"\"),\n",
    "        question=sample[\"question\"],\n",
    "        answer=sample[\"response\"],\n",
    "    )\n",
    "    for sample in data\n",
    "]\n",
    "\n",
    "print(raw_data[0])"
   ]
  },
  {
   "cell_type": "code",
   "execution_count": 17,
   "metadata": {},
   "outputs": [
    {
     "data": {
      "text/plain": [
       "PromptTemplate(name='falcon', system_template='>>INTRODUCTION<< {system_message}', context_template='>>DOMAIN<< {user_context}\\n{news_context}', chat_history_template='>>SUMMARY<< {chat_history}', question_template='>>QUESTION<< {question}', answer_template='>>ANSWER<< {answer}', system_message='You are a helpful assistant, with financial expertise.', sep='\\n', eos='<|endoftext|>')"
      ]
     },
     "execution_count": 17,
     "metadata": {},
     "output_type": "execute_result"
    }
   ],
   "source": [
    "## Get llm template\n",
    "from typing import Dict, List, Union\n",
    "\n",
    "@dataclass\n",
    "class PromptTemplate:\n",
    "    \"\"\"A class that manages prompt templates\"\"\"\n",
    "\n",
    "    name: str\n",
    "    system_template: str = \"{system_message}\"\n",
    "    context_template: str = \"{user_context}\\n{news_context}\"\n",
    "    chat_history_template: str = \"{chat_history}\"\n",
    "    question_template: str = \"{question}\"\n",
    "    answer_template: str = \"{answer}\"\n",
    "    system_message: str = \"\"\n",
    "    sep: str = \"\\n\"\n",
    "    eos: str = \"\"\n",
    "\n",
    "    @property\n",
    "    def train_raw_template(self):\n",
    "        \"\"\"Returns the training prompt template format\"\"\"\n",
    "\n",
    "        system = self.system_template.format(system_message=self.system_message)\n",
    "        context = f\"{self.sep}{self.context_template}\"\n",
    "        chat_history = f\"{self.sep}{self.chat_history_template}\"\n",
    "        question = f\"{self.sep}{self.question_template}\"\n",
    "        answer = f\"{self.sep}{self.answer_template}\"\n",
    "\n",
    "        return f\"{system}{context}{chat_history}{question}{answer}{self.eos}\"\n",
    "\n",
    "\n",
    "    def format_train(self, sample: Dict[str, str]) -> Dict[str, Union[str, Dict]]:\n",
    "        \"\"\"Formats the data sample to a training sample\"\"\"\n",
    "\n",
    "        prompt = self.train_raw_template.format(\n",
    "            user_context=sample[\"user_context\"],\n",
    "            news_context=sample[\"news_context\"],\n",
    "            chat_history=sample.get(\"chat_history\", \"\"),\n",
    "            question=sample[\"question\"],\n",
    "            answer=sample[\"answer\"],\n",
    "        )\n",
    "\n",
    "        return {\"prompt\": prompt, \"payload\": sample}\n",
    "\n",
    "# Global Templates registry\n",
    "templates: Dict[str, PromptTemplate] = {}\n",
    "\n",
    "def register_llm_template(template: PromptTemplate):\n",
    "    \"\"\"Register a new template to the global templates registry\"\"\"\n",
    "\n",
    "    templates[template.name] = template\n",
    "\n",
    "\n",
    "def get_llm_template(name: str) -> PromptTemplate:\n",
    "    \"\"\"Returns the template assigned to the given name\"\"\"\n",
    "\n",
    "    return templates[name]\n",
    "\n",
    "#get_llm_template(\"falcon\")\n",
    "\n",
    "register_llm_template(\n",
    "    PromptTemplate(\n",
    "        name=\"falcon\",\n",
    "        system_template=\">>INTRODUCTION<< {system_message}\",\n",
    "        system_message=\"You are a helpful assistant, with financial expertise.\",\n",
    "        context_template=\">>DOMAIN<< {user_context}\\n{news_context}\",\n",
    "        chat_history_template=\">>SUMMARY<< {chat_history}\",\n",
    "        question_template=\">>QUESTION<< {question}\",\n",
    "        answer_template=\">>ANSWER<< {answer}\",\n",
    "        sep=\"\\n\",\n",
    "        eos=\"<|endoftext|>\",\n",
    "    )\n",
    ")\n",
    "\n",
    "get_llm_template(\"falcon\")"
   ]
  },
  {
   "cell_type": "code",
   "execution_count": 18,
   "metadata": {},
   "outputs": [
    {
     "data": {
      "text/plain": [
       "<bound method PromptTemplate.format_train of PromptTemplate(name='falcon', system_template='>>INTRODUCTION<< {system_message}', context_template='>>DOMAIN<< {user_context}\\n{news_context}', chat_history_template='>>SUMMARY<< {chat_history}', question_template='>>QUESTION<< {question}', answer_template='>>ANSWER<< {answer}', system_message='You are a helpful assistant, with financial expertise.', sep='\\n', eos='<|endoftext|>')>"
      ]
     },
     "execution_count": 18,
     "metadata": {},
     "output_type": "execute_result"
    }
   ],
   "source": [
    "get_llm_template(\"falcon\").format_train"
   ]
  },
  {
   "cell_type": "code",
   "execution_count": 16,
   "metadata": {},
   "outputs": [
    {
     "data": {
      "text/plain": [
       "{'falcon': PromptTemplate(name='falcon', system_template='>>INTRODUCTION<< {system_message}', context_template='>>DOMAIN<< {user_context}\\n{news_context}', chat_history_template='>>SUMMARY<< {chat_history}', question_template='>>QUESTION<< {question}', answer_template='>>ANSWER<< {answer}', system_message='You are a helpful assistant, with financial expertise.', sep='\\n', eos='<|endoftext|>')}"
      ]
     },
     "execution_count": 16,
     "metadata": {},
     "output_type": "execute_result"
    }
   ],
   "source": [
    "templates"
   ]
  },
  {
   "cell_type": "code",
   "execution_count": 19,
   "metadata": {},
   "outputs": [],
   "source": [
    "from unstructured.cleaners.core import clean_extra_whitespace, group_broken_paragraphs\n",
    "\n",
    "def clean(samples: Dict[str, str]) -> Dict[str, str]:\n",
    "    \"\"\"\n",
    "    Cleans the samples.\n",
    "\n",
    "    Args:\n",
    "        samples (Dict[str, str]): The samples to clean.\n",
    "\n",
    "    Returns:\n",
    "        Dict[str, str]: The cleaned samples.\n",
    "    \"\"\"\n",
    "\n",
    "    for key, sample in samples.items():\n",
    "        cleaned_sample = clean_extra_whitespace(sample)\n",
    "        cleaned_sample = group_broken_paragraphs(cleaned_sample)\n",
    "\n",
    "        samples[key] = cleaned_sample\n",
    "\n",
    "    return samples\n"
   ]
  },
  {
   "cell_type": "code",
   "execution_count": 21,
   "metadata": {},
   "outputs": [
    {
     "name": "stderr",
     "output_type": "stream",
     "text": [
      "Map:   0%|          | 0/125 [00:00<?, ? examples/s]"
     ]
    },
    {
     "name": "stderr",
     "output_type": "stream",
     "text": [
      "Map: 100%|██████████| 125/125 [00:00<00:00, 3983.10 examples/s]\n",
      "Map: 100%|██████████| 125/125 [00:00<00:00, 6934.57 examples/s]\n"
     ]
    },
    {
     "data": {
      "text/plain": [
       "{'user_context': \"I'm a 26 year old investor. I want to explore opportunities in emerging markets.\",\n",
       " 'news_context': 'Eastern European economies attract investments with improving infrastructure and skilled workforce.',\n",
       " 'chat_history': '',\n",
       " 'question': 'How do you view the growth potential of Eastern European markets?',\n",
       " 'answer': 'Eastern European markets have great potential for growth. The improving infrastructure and skilled workforce make them attractive to investors. The region is also home to some of the fastest-growing economies in the world, such as Poland and Romania. Investing in stocks and cryptocurrencies in these markets can be a great way to diversify your portfolio and benefit from the potential for high returns. Additionally, investing in emerging markets can help to reduce risk and provide a hedge against global economic downturns.',\n",
       " 'prompt': \">>INTRODUCTION<< You are a helpful assistant, with financial expertise.\\n>>DOMAIN<< I'm a 26 year old investor. I want to explore opportunities in emerging markets.\\nEastern European economies attract investments with improving infrastructure and skilled workforce.\\n>>SUMMARY<< \\n>>QUESTION<< How do you view the growth potential of Eastern European markets?\\n>>ANSWER<< Eastern European markets have great potential for growth. The improving infrastructure and skilled workforce make them attractive to investors. The region is also home to some of the fastest-growing economies in the world, such as Poland and Romania. Investing in stocks and cryptocurrencies in these markets can be a great way to diversify your portfolio and benefit from the potential for high returns. Additionally, investing in emerging markets can help to reduce risk and provide a hedge against global economic downturns.<|endoftext|>\",\n",
       " 'payload': {'answer': 'Eastern European markets have great potential for growth. The improving infrastructure and skilled workforce make them attractive to investors. The region is also home to some of the fastest-growing economies in the world, such as Poland and Romania. Investing in stocks and cryptocurrencies in these markets can be a great way to diversify your portfolio and benefit from the potential for high returns. Additionally, investing in emerging markets can help to reduce risk and provide a hedge against global economic downturns.',\n",
       "  'chat_history': '',\n",
       "  'news_context': 'Eastern European economies attract investments with improving infrastructure and skilled workforce.',\n",
       "  'question': 'How do you view the growth potential of Eastern European markets?',\n",
       "  'user_context': \"I'm a 26 year old investor. I want to explore opportunities in emerging markets.\"}}"
      ]
     },
     "execution_count": 21,
     "metadata": {},
     "output_type": "execute_result"
    }
   ],
   "source": [
    "# Preprocesses the data & returns a HuggingFace dataset\n",
    "\n",
    "data_as_dict = [asdict(sample) for sample in raw_data]\n",
    "dataset = Dataset.from_list(data_as_dict)\n",
    "\n",
    "template_mapping_func = get_llm_template(\"falcon\").format_train\n",
    "\n",
    "dataset = dataset.map(clean)\n",
    "dataset = dataset.map(template_mapping_func, remove_columns=dataset.column_names)\n",
    "dataset[0]"
   ]
  },
  {
   "cell_type": "code",
   "execution_count": null,
   "metadata": {},
   "outputs": [],
   "source": []
  }
 ],
 "metadata": {
  "kernelspec": {
   "display_name": "llm-sft",
   "language": "python",
   "name": "python3"
  },
  "language_info": {
   "codemirror_mode": {
    "name": "ipython",
    "version": 3
   },
   "file_extension": ".py",
   "mimetype": "text/x-python",
   "name": "python",
   "nbconvert_exporter": "python",
   "pygments_lexer": "ipython3",
   "version": "3.10.13"
  }
 },
 "nbformat": 4,
 "nbformat_minor": 2
}
